{
 "cells": [
  {
   "cell_type": "code",
   "execution_count": 1,
   "id": "3d6a86f7",
   "metadata": {},
   "outputs": [],
   "source": [
    "import pandas as pd\n",
    "import sqlite3\n",
    "\n",
    "#connect to database\n",
    "conn = sqlite3.connect(\"OAdb.db\")\n",
    "\n",
    "cursor = conn.cursor()"
   ]
  },
  {
   "cell_type": "code",
   "execution_count": 2,
   "id": "d7822688",
   "metadata": {},
   "outputs": [],
   "source": [
    "# Create tables\n",
    "# Only run this cell once to connect it to the same database\n",
    "Brands = pd.read_csv('brands.csv').to_sql('Brands', conn)\n",
    "Receipt_items = pd.read_csv('receipt_items.csv').to_sql('Receipt_items', conn)\n",
    "Receipts = pd.read_csv('receipts.csv').to_sql('Receipts', conn)\n",
    "Users = pd.read_csv('users.csv').to_sql('Users', conn)"
   ]
  },
  {
   "cell_type": "code",
   "execution_count": 3,
   "id": "c10d3ae4",
   "metadata": {},
   "outputs": [
    {
     "data": {
      "text/html": [
       "<div>\n",
       "<style scoped>\n",
       "    .dataframe tbody tr th:only-of-type {\n",
       "        vertical-align: middle;\n",
       "    }\n",
       "\n",
       "    .dataframe tbody tr th {\n",
       "        vertical-align: top;\n",
       "    }\n",
       "\n",
       "    .dataframe thead th {\n",
       "        text-align: right;\n",
       "    }\n",
       "</style>\n",
       "<table border=\"1\" class=\"dataframe\">\n",
       "  <thead>\n",
       "    <tr style=\"text-align: right;\">\n",
       "      <th></th>\n",
       "      <th>NAME</th>\n",
       "    </tr>\n",
       "  </thead>\n",
       "  <tbody>\n",
       "    <tr>\n",
       "      <th>0</th>\n",
       "      <td>Brooks®</td>\n",
       "    </tr>\n",
       "  </tbody>\n",
       "</table>\n",
       "</div>"
      ],
      "text/plain": [
       "      NAME\n",
       "0  Brooks®"
      ]
     },
     "execution_count": 3,
     "metadata": {},
     "output_type": "execute_result"
    }
   ],
   "source": [
    "# Question 1\n",
    "q1string = \"\"\"\n",
    "SELECT B.NAME\n",
    "FROM Receipt_items AS I\n",
    "INNER JOIN Receipts AS R ON I.REWARDS_RECEIPT_ID = R.ID \n",
    "INNER JOIN Brands AS B ON B.BARCODE = I.BARCODE\n",
    "WHERE R.PURCHASE_DATE LIKE '%-06-%' \n",
    "GROUP BY B.NAME\n",
    "ORDER BY SUM(I.TOTAL_FINAL_PRICE) DESC\n",
    "LIMIT 1\n",
    "\"\"\"\n",
    "q1 = pd.read_sql(q1string, conn)\n",
    "q1"
   ]
  },
  {
   "cell_type": "code",
   "execution_count": 4,
   "id": "b2013662",
   "metadata": {},
   "outputs": [
    {
     "data": {
      "text/html": [
       "<div>\n",
       "<style scoped>\n",
       "    .dataframe tbody tr th:only-of-type {\n",
       "        vertical-align: middle;\n",
       "    }\n",
       "\n",
       "    .dataframe tbody tr th {\n",
       "        vertical-align: top;\n",
       "    }\n",
       "\n",
       "    .dataframe thead th {\n",
       "        text-align: right;\n",
       "    }\n",
       "</style>\n",
       "<table border=\"1\" class=\"dataframe\">\n",
       "  <thead>\n",
       "    <tr style=\"text-align: right;\">\n",
       "      <th></th>\n",
       "      <th>ID</th>\n",
       "    </tr>\n",
       "  </thead>\n",
       "  <tbody>\n",
       "    <tr>\n",
       "      <th>0</th>\n",
       "      <td>609ab37f7a2e8f2f95ae968f</td>\n",
       "    </tr>\n",
       "  </tbody>\n",
       "</table>\n",
       "</div>"
      ],
      "text/plain": [
       "                         ID\n",
       "0  609ab37f7a2e8f2f95ae968f"
      ]
     },
     "execution_count": 4,
     "metadata": {},
     "output_type": "execute_result"
    }
   ],
   "source": [
    "# Question 2\n",
    "q2string = \"\"\"\n",
    "SELECT U.ID\n",
    "FROM Users AS U\n",
    "INNER JOIN Receipts AS R on R.USER_ID = U.ID\n",
    "WHERE R.PURCHASE_DATE LIKE '%-08-%' AND R.TOTAL_SPENT = (SELECT MAX(R.TOTAL_SPENT)\n",
    "                                                        FROM Receipts AS R)\n",
    "ORDER BY R.TOTAL_SPENT DESC\n",
    "\"\"\"\n",
    "q2 = pd.read_sql(q2string, conn)\n",
    "q2"
   ]
  },
  {
   "cell_type": "code",
   "execution_count": 5,
   "id": "c97e738b",
   "metadata": {},
   "outputs": [
    {
     "data": {
      "text/html": [
       "<div>\n",
       "<style scoped>\n",
       "    .dataframe tbody tr th:only-of-type {\n",
       "        vertical-align: middle;\n",
       "    }\n",
       "\n",
       "    .dataframe tbody tr th {\n",
       "        vertical-align: top;\n",
       "    }\n",
       "\n",
       "    .dataframe thead th {\n",
       "        text-align: right;\n",
       "    }\n",
       "</style>\n",
       "<table border=\"1\" class=\"dataframe\">\n",
       "  <thead>\n",
       "    <tr style=\"text-align: right;\">\n",
       "      <th></th>\n",
       "      <th>ID</th>\n",
       "      <th>PURCHASE_DATE</th>\n",
       "      <th>TOTAL_SPENT</th>\n",
       "    </tr>\n",
       "  </thead>\n",
       "  <tbody>\n",
       "    <tr>\n",
       "      <th>0</th>\n",
       "      <td>617376b8a9619d488190e0b6</td>\n",
       "      <td>2022-07-06T00:00:00Z</td>\n",
       "      <td>31018.97</td>\n",
       "    </tr>\n",
       "  </tbody>\n",
       "</table>\n",
       "</div>"
      ],
      "text/plain": [
       "                         ID         PURCHASE_DATE  TOTAL_SPENT\n",
       "0  617376b8a9619d488190e0b6  2022-07-06T00:00:00Z     31018.97"
      ]
     },
     "execution_count": 5,
     "metadata": {},
     "output_type": "execute_result"
    }
   ],
   "source": [
    "# Question 3\n",
    "q3string = \"\"\"\n",
    "SELECT U.ID, R.PURCHASE_DATE, R.TOTAL_SPENT\n",
    "FROM Users AS U\n",
    "INNER JOIN Receipts AS R on R.USER_ID = U.ID\n",
    "INNER JOIN Receipt_items AS I on I.REWARDS_RECEIPT_ID = R.ID\n",
    "WHERE I.TOTAL_FINAL_PRICE = (SELECT MAX(I.TOTAL_FINAL_PRICE)\n",
    "                            FROM Receipt_items AS I)\n",
    "GROUP BY U.ID\n",
    "\"\"\"\n",
    "q3 = pd.read_sql(q3string, conn)\n",
    "q3"
   ]
  },
  {
   "cell_type": "code",
   "execution_count": 6,
   "id": "4d1d5bfe",
   "metadata": {},
   "outputs": [
    {
     "data": {
      "text/html": [
       "<div>\n",
       "<style scoped>\n",
       "    .dataframe tbody tr th:only-of-type {\n",
       "        vertical-align: middle;\n",
       "    }\n",
       "\n",
       "    .dataframe tbody tr th {\n",
       "        vertical-align: top;\n",
       "    }\n",
       "\n",
       "    .dataframe thead th {\n",
       "        text-align: right;\n",
       "    }\n",
       "</style>\n",
       "<table border=\"1\" class=\"dataframe\">\n",
       "  <thead>\n",
       "    <tr style=\"text-align: right;\">\n",
       "      <th></th>\n",
       "      <th>DESCRIPTION</th>\n",
       "    </tr>\n",
       "  </thead>\n",
       "  <tbody>\n",
       "    <tr>\n",
       "      <th>0</th>\n",
       "      <td>Starbucks Iced Coffee Premium Coffee Beverage ...</td>\n",
       "    </tr>\n",
       "  </tbody>\n",
       "</table>\n",
       "</div>"
      ],
      "text/plain": [
       "                                         DESCRIPTION\n",
       "0  Starbucks Iced Coffee Premium Coffee Beverage ..."
      ]
     },
     "execution_count": 6,
     "metadata": {},
     "output_type": "execute_result"
    }
   ],
   "source": [
    "# Question 4\n",
    "q4string = \"\"\"\n",
    "SELECT I.DESCRIPTION\n",
    "FROM Receipt_items AS I\n",
    "WHERE I.TOTAL_FINAL_PRICE = (SELECT MAX(I.TOTAL_FINAL_PRICE)\n",
    "                            FROM Receipt_items AS I)\n",
    "GROUP BY I.Description\n",
    "\"\"\"\n",
    "q4 = pd.read_sql(q4string, conn)\n",
    "q4"
   ]
  },
  {
   "cell_type": "code",
   "execution_count": 7,
   "id": "1ee33a78",
   "metadata": {},
   "outputs": [
    {
     "data": {
      "text/html": [
       "<div>\n",
       "<style scoped>\n",
       "    .dataframe tbody tr th:only-of-type {\n",
       "        vertical-align: middle;\n",
       "    }\n",
       "\n",
       "    .dataframe tbody tr th {\n",
       "        vertical-align: top;\n",
       "    }\n",
       "\n",
       "    .dataframe thead th {\n",
       "        text-align: right;\n",
       "    }\n",
       "</style>\n",
       "<table border=\"1\" class=\"dataframe\">\n",
       "  <thead>\n",
       "    <tr style=\"text-align: right;\">\n",
       "      <th></th>\n",
       "      <th>COUNT(U.ID)</th>\n",
       "      <th>MONTH</th>\n",
       "    </tr>\n",
       "  </thead>\n",
       "  <tbody>\n",
       "    <tr>\n",
       "      <th>0</th>\n",
       "      <td>4222</td>\n",
       "      <td>01</td>\n",
       "    </tr>\n",
       "    <tr>\n",
       "      <th>1</th>\n",
       "      <td>3830</td>\n",
       "      <td>02</td>\n",
       "    </tr>\n",
       "    <tr>\n",
       "      <th>2</th>\n",
       "      <td>4767</td>\n",
       "      <td>03</td>\n",
       "    </tr>\n",
       "    <tr>\n",
       "      <th>3</th>\n",
       "      <td>4882</td>\n",
       "      <td>04</td>\n",
       "    </tr>\n",
       "    <tr>\n",
       "      <th>4</th>\n",
       "      <td>5627</td>\n",
       "      <td>05</td>\n",
       "    </tr>\n",
       "    <tr>\n",
       "      <th>5</th>\n",
       "      <td>5405</td>\n",
       "      <td>06</td>\n",
       "    </tr>\n",
       "    <tr>\n",
       "      <th>6</th>\n",
       "      <td>6058</td>\n",
       "      <td>07</td>\n",
       "    </tr>\n",
       "    <tr>\n",
       "      <th>7</th>\n",
       "      <td>6191</td>\n",
       "      <td>08</td>\n",
       "    </tr>\n",
       "    <tr>\n",
       "      <th>8</th>\n",
       "      <td>6355</td>\n",
       "      <td>09</td>\n",
       "    </tr>\n",
       "    <tr>\n",
       "      <th>9</th>\n",
       "      <td>7305</td>\n",
       "      <td>10</td>\n",
       "    </tr>\n",
       "    <tr>\n",
       "      <th>10</th>\n",
       "      <td>7512</td>\n",
       "      <td>11</td>\n",
       "    </tr>\n",
       "    <tr>\n",
       "      <th>11</th>\n",
       "      <td>8447</td>\n",
       "      <td>12</td>\n",
       "    </tr>\n",
       "  </tbody>\n",
       "</table>\n",
       "</div>"
      ],
      "text/plain": [
       "    COUNT(U.ID) MONTH\n",
       "0          4222    01\n",
       "1          3830    02\n",
       "2          4767    03\n",
       "3          4882    04\n",
       "4          5627    05\n",
       "5          5405    06\n",
       "6          6058    07\n",
       "7          6191    08\n",
       "8          6355    09\n",
       "9          7305    10\n",
       "10         7512    11\n",
       "11         8447    12"
      ]
     },
     "execution_count": 7,
     "metadata": {},
     "output_type": "execute_result"
    }
   ],
   "source": [
    "# Question 5\n",
    "q5string = \"\"\"\n",
    "SELECT COUNT(U.ID), SUBSTRING(R.DATE_SCANNED, 6, 2) AS MONTH\n",
    "FROM Users AS U\n",
    "INNER JOIN Receipts AS R ON R.USER_ID = U.ID\n",
    "GROUP BY MONTH\n",
    "\"\"\"\n",
    "q5 = pd.read_sql(q5string, conn)\n",
    "q5"
   ]
  },
  {
   "cell_type": "code",
   "execution_count": 8,
   "id": "fa8e156b",
   "metadata": {},
   "outputs": [],
   "source": [
    "cursor.close()\n",
    "conn.close()\n"
   ]
  }
 ],
 "metadata": {
  "kernelspec": {
   "display_name": "Python 3 (ipykernel)",
   "language": "python",
   "name": "python3"
  },
  "language_info": {
   "codemirror_mode": {
    "name": "ipython",
    "version": 3
   },
   "file_extension": ".py",
   "mimetype": "text/x-python",
   "name": "python",
   "nbconvert_exporter": "python",
   "pygments_lexer": "ipython3",
   "version": "3.9.7"
  }
 },
 "nbformat": 4,
 "nbformat_minor": 5
}
