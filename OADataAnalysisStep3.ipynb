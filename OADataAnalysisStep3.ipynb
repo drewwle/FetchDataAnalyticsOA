{
 "cells": [
  {
   "cell_type": "code",
   "execution_count": 1,
   "id": "14aa5fea",
   "metadata": {},
   "outputs": [],
   "source": [
    "import pandas as pd\n",
    "import matplotlib.pyplot as plt\n",
    "from datetime import datetime"
   ]
  },
  {
   "cell_type": "code",
   "execution_count": 2,
   "id": "078bb432",
   "metadata": {},
   "outputs": [],
   "source": [
    "brands = pd.read_csv('brands.csv')\n",
    "receipts = pd.read_csv('receipts.csv')\n",
    "receipt_items = pd.read_csv('receipt_items.csv')\n",
    "users = pd.read_csv('users.csv')\n"
   ]
  },
  {
   "cell_type": "code",
   "execution_count": 3,
   "id": "84080193",
   "metadata": {},
   "outputs": [
    {
     "data": {
      "text/plain": [
       "Text(0, 0.5, 'Total final Price per brand')"
      ]
     },
     "execution_count": 3,
     "metadata": {},
     "output_type": "execute_result"
    },
    {
     "data": {
      "image/png": "[encoded data removed]",
      "text/plain": [
       "<Figure size 432x288 with 1 Axes>"
      ]
     },
     "metadata": {
      "needs_background": "light"
     },
     "output_type": "display_data"
    }
   ],
   "source": [
    "g2 = receipt_items.groupby(by = ['BRAND_CODE'], as_index = False).sum()\n",
    "g2 = g2.sort_values(by='TOTAL_FINAL_PRICE', ascending=False)[:30]\n",
    "plt.bar(g2['BRAND_CODE'], g2['TOTAL_FINAL_PRICE'])\n",
    "plt.xticks(rotation=90)\n",
    "plt.xlabel('Brand')\n",
    "plt.ylabel('Total final Price per brand')"
   ]
  },
  {
   "cell_type": "markdown",
   "id": "d25a9048",
   "metadata": {},
   "source": [
    "I have grouped the sum of the total final price per company by brand. As shown here, Starbucks and Fresh both have a much higher revenue in the time this data was collected than other companies, even including Kirkland signature and Kroger. This is to be expected, however, as both Starbucks and Fresh are huge conglomerates that attract hundreds, if not thousands or more, a day. "
   ]
  },
  {
   "cell_type": "code",
   "execution_count": 4,
   "id": "7c46799c",
   "metadata": {},
   "outputs": [
    {
     "data": {
      "text/html": [
       "<div>\n",
       "<style scoped>\n",
       "    .dataframe tbody tr th:only-of-type {\n",
       "        vertical-align: middle;\n",
       "    }\n",
       "\n",
       "    .dataframe tbody tr th {\n",
       "        vertical-align: top;\n",
       "    }\n",
       "\n",
       "    .dataframe thead th {\n",
       "        text-align: right;\n",
       "    }\n",
       "</style>\n",
       "<table border=\"1\" class=\"dataframe\">\n",
       "  <thead>\n",
       "    <tr style=\"text-align: right;\">\n",
       "      <th></th>\n",
       "      <th>ID</th>\n",
       "      <th>STORE_NAME</th>\n",
       "      <th>PURCHASE_DATE</th>\n",
       "      <th>PURCHASE_TIME</th>\n",
       "      <th>DATE_SCANNED</th>\n",
       "      <th>TOTAL_SPENT</th>\n",
       "      <th>REWARDS_RECEIPT_STATUS</th>\n",
       "      <th>USER_ID</th>\n",
       "      <th>USER_VIEWED</th>\n",
       "      <th>PURCHASED_ITEM_COUNT</th>\n",
       "      <th>...</th>\n",
       "      <th>REWARDS_RECEIPT_ITEM_ID</th>\n",
       "      <th>DESCRIPTION</th>\n",
       "      <th>BARCODE</th>\n",
       "      <th>BRAND_CODE</th>\n",
       "      <th>QUANTITY_PURCHASED</th>\n",
       "      <th>TOTAL_FINAL_PRICE</th>\n",
       "      <th>POINTS_EARNED</th>\n",
       "      <th>REWARDS_GROUP</th>\n",
       "      <th>ORIGINAL_RECEIPT_ITEM_TEXT</th>\n",
       "      <th>MODIFY_DATE_y</th>\n",
       "    </tr>\n",
       "  </thead>\n",
       "  <tbody>\n",
       "    <tr>\n",
       "      <th>0</th>\n",
       "      <td>62868f660a72546bef0b2dd0</td>\n",
       "      <td>TOWN OF ROCKY MOUNT</td>\n",
       "      <td>2022-05-19T00:00:00Z</td>\n",
       "      <td>2:05 PM</td>\n",
       "      <td>2022-05-19T18:41:42.53Z</td>\n",
       "      <td>859.87</td>\n",
       "      <td>FINISHED</td>\n",
       "      <td>61375682c625197c5db73602</td>\n",
       "      <td>True</td>\n",
       "      <td>1.0</td>\n",
       "      <td>...</td>\n",
       "      <td>16c56fb28ecbec82e901331d68228f1f</td>\n",
       "      <td>abraxas LP</td>\n",
       "      <td>32032</td>\n",
       "      <td>NaN</td>\n",
       "      <td>1.0</td>\n",
       "      <td>859.87</td>\n",
       "      <td>NaN</td>\n",
       "      <td>NaN</td>\n",
       "      <td>CHCCK</td>\n",
       "      <td>2022-05-22T11:20:57.998Z</td>\n",
       "    </tr>\n",
       "    <tr>\n",
       "      <th>1</th>\n",
       "      <td>6269a4ea0a7241077408b6e1</td>\n",
       "      <td>FAMILY DOLLAR</td>\n",
       "      <td>2022-04-27T00:00:00Z</td>\n",
       "      <td>4:15 PM</td>\n",
       "      <td>2022-04-27T20:17:46.09Z</td>\n",
       "      <td>11.00</td>\n",
       "      <td>FINISHED</td>\n",
       "      <td>61578e96c2fb9321213720fc</td>\n",
       "      <td>True</td>\n",
       "      <td>2.0</td>\n",
       "      <td>...</td>\n",
       "      <td>11c57ddd5747d37822c897a25f9e7768</td>\n",
       "      <td>Homeline Concentrated Regular Bleach</td>\n",
       "      <td>032251542848</td>\n",
       "      <td>HOMELINE</td>\n",
       "      <td>1.0</td>\n",
       "      <td>5.50</td>\n",
       "      <td>NaN</td>\n",
       "      <td>NaN</td>\n",
       "      <td>HL CONCENTRATED REGULAR BLEACH 121FL OZ</td>\n",
       "      <td>2022-04-27T20:17:55.521Z</td>\n",
       "    </tr>\n",
       "    <tr>\n",
       "      <th>2</th>\n",
       "      <td>6269a4ea0a7241077408b6e1</td>\n",
       "      <td>FAMILY DOLLAR</td>\n",
       "      <td>2022-04-27T00:00:00Z</td>\n",
       "      <td>4:15 PM</td>\n",
       "      <td>2022-04-27T20:17:46.09Z</td>\n",
       "      <td>11.00</td>\n",
       "      <td>FINISHED</td>\n",
       "      <td>61578e96c2fb9321213720fc</td>\n",
       "      <td>True</td>\n",
       "      <td>2.0</td>\n",
       "      <td>...</td>\n",
       "      <td>3df03ec0abcaa96146a3f8591bd0f492</td>\n",
       "      <td>Homeline Concentrated Regular Bleach</td>\n",
       "      <td>032251542848</td>\n",
       "      <td>HOMELINE</td>\n",
       "      <td>1.0</td>\n",
       "      <td>5.50</td>\n",
       "      <td>NaN</td>\n",
       "      <td>NaN</td>\n",
       "      <td>HL CONCENTRATED REGULAR BLEACH 121FL OZ</td>\n",
       "      <td>2022-04-27T20:17:55.521Z</td>\n",
       "    </tr>\n",
       "    <tr>\n",
       "      <th>3</th>\n",
       "      <td>625b25e70a723eb9730d2c9c</td>\n",
       "      <td>PUBLIX</td>\n",
       "      <td>2022-04-15T00:00:00Z</td>\n",
       "      <td>4:45 PM</td>\n",
       "      <td>2022-04-16T20:24:07.259Z</td>\n",
       "      <td>10.67</td>\n",
       "      <td>FINISHED</td>\n",
       "      <td>6048de2ec9106b12d2b1ff61</td>\n",
       "      <td>True</td>\n",
       "      <td>4.0</td>\n",
       "      <td>...</td>\n",
       "      <td>89d8e7ea905aaa29b394affbab9fc9de</td>\n",
       "      <td>Snyder's of Hanover Jalapeno Pretzels Pieces</td>\n",
       "      <td>077975088234</td>\n",
       "      <td>SNYDER'S OF HANOVER</td>\n",
       "      <td>1.0</td>\n",
       "      <td>4.29</td>\n",
       "      <td>NaN</td>\n",
       "      <td>ROLD GOLD FLAVORED MULTI SERVE</td>\n",
       "      <td>SNYD PRTZL JALPENO</td>\n",
       "      <td>2022-04-16T20:24:24.064Z</td>\n",
       "    </tr>\n",
       "    <tr>\n",
       "      <th>4</th>\n",
       "      <td>625b25e70a723eb9730d2c9c</td>\n",
       "      <td>PUBLIX</td>\n",
       "      <td>2022-04-15T00:00:00Z</td>\n",
       "      <td>4:45 PM</td>\n",
       "      <td>2022-04-16T20:24:07.259Z</td>\n",
       "      <td>10.67</td>\n",
       "      <td>FINISHED</td>\n",
       "      <td>6048de2ec9106b12d2b1ff61</td>\n",
       "      <td>True</td>\n",
       "      <td>4.0</td>\n",
       "      <td>...</td>\n",
       "      <td>11193d868f3e636ab6cf219b16a7b941</td>\n",
       "      <td>SOUR BRITE CRAWLER</td>\n",
       "      <td>NaN</td>\n",
       "      <td>NaN</td>\n",
       "      <td>1.0</td>\n",
       "      <td>2.19</td>\n",
       "      <td>NaN</td>\n",
       "      <td>NaN</td>\n",
       "      <td>SOUR BRITE CRAWLER</td>\n",
       "      <td>2022-04-16T20:24:24.064Z</td>\n",
       "    </tr>\n",
       "    <tr>\n",
       "      <th>...</th>\n",
       "      <td>...</td>\n",
       "      <td>...</td>\n",
       "      <td>...</td>\n",
       "      <td>...</td>\n",
       "      <td>...</td>\n",
       "      <td>...</td>\n",
       "      <td>...</td>\n",
       "      <td>...</td>\n",
       "      <td>...</td>\n",
       "      <td>...</td>\n",
       "      <td>...</td>\n",
       "      <td>...</td>\n",
       "      <td>...</td>\n",
       "      <td>...</td>\n",
       "      <td>...</td>\n",
       "      <td>...</td>\n",
       "      <td>...</td>\n",
       "      <td>...</td>\n",
       "      <td>...</td>\n",
       "      <td>...</td>\n",
       "      <td>...</td>\n",
       "    </tr>\n",
       "    <tr>\n",
       "      <th>360372</th>\n",
       "      <td>61b60d450a723af31e49e390</td>\n",
       "      <td>KOSTA'S GYROS</td>\n",
       "      <td>2021-12-09T00:00:00Z</td>\n",
       "      <td>12:38 AM</td>\n",
       "      <td>2021-12-12T14:55:01.235Z</td>\n",
       "      <td>24.86</td>\n",
       "      <td>FINISHED</td>\n",
       "      <td>607977220eb8310a043a61db</td>\n",
       "      <td>True</td>\n",
       "      <td>4.0</td>\n",
       "      <td>...</td>\n",
       "      <td>25d4fb522078bc29f6596927d9f1e0b8</td>\n",
       "      <td>Hagerty Silversmiths Polish Spray, 8 Oz</td>\n",
       "      <td>011130140801</td>\n",
       "      <td>HAGERTY</td>\n",
       "      <td>1.0</td>\n",
       "      <td>6.59</td>\n",
       "      <td>NaN</td>\n",
       "      <td>NaN</td>\n",
       "      <td>HAR POLISH</td>\n",
       "      <td>2021-12-12T14:55:24.387Z</td>\n",
       "    </tr>\n",
       "    <tr>\n",
       "      <th>360373</th>\n",
       "      <td>61b60d450a723af31e49e390</td>\n",
       "      <td>KOSTA'S GYROS</td>\n",
       "      <td>2021-12-09T00:00:00Z</td>\n",
       "      <td>12:38 AM</td>\n",
       "      <td>2021-12-12T14:55:01.235Z</td>\n",
       "      <td>24.86</td>\n",
       "      <td>FINISHED</td>\n",
       "      <td>607977220eb8310a043a61db</td>\n",
       "      <td>True</td>\n",
       "      <td>4.0</td>\n",
       "      <td>...</td>\n",
       "      <td>3f358371f1d8cab31a4a6c9dfe8ee01a</td>\n",
       "      <td>MALE</td>\n",
       "      <td>NaN</td>\n",
       "      <td>NaN</td>\n",
       "      <td>1.0</td>\n",
       "      <td>2.59</td>\n",
       "      <td>NaN</td>\n",
       "      <td>NaN</td>\n",
       "      <td>MALE</td>\n",
       "      <td>2021-12-12T14:55:24.387Z</td>\n",
       "    </tr>\n",
       "    <tr>\n",
       "      <th>360374</th>\n",
       "      <td>61b60d450a723af31e49e390</td>\n",
       "      <td>KOSTA'S GYROS</td>\n",
       "      <td>2021-12-09T00:00:00Z</td>\n",
       "      <td>12:38 AM</td>\n",
       "      <td>2021-12-12T14:55:01.235Z</td>\n",
       "      <td>24.86</td>\n",
       "      <td>FINISHED</td>\n",
       "      <td>607977220eb8310a043a61db</td>\n",
       "      <td>True</td>\n",
       "      <td>4.0</td>\n",
       "      <td>...</td>\n",
       "      <td>df295f6fb8c91c4db1903b3fc78c5b1f</td>\n",
       "      <td>W OF CHICK 32OZ</td>\n",
       "      <td>NaN</td>\n",
       "      <td>NaN</td>\n",
       "      <td>1.0</td>\n",
       "      <td>8.09</td>\n",
       "      <td>NaN</td>\n",
       "      <td>NaN</td>\n",
       "      <td>W OF CHICK 32OZ</td>\n",
       "      <td>2021-12-12T14:55:24.387Z</td>\n",
       "    </tr>\n",
       "    <tr>\n",
       "      <th>360375</th>\n",
       "      <td>632e34fc0a7247339f0fac00</td>\n",
       "      <td>DOLLAR GENERAL STORE</td>\n",
       "      <td>2022-09-23T00:00:00Z</td>\n",
       "      <td>6:20 PM</td>\n",
       "      <td>2022-09-23T22:36:44.617Z</td>\n",
       "      <td>8.43</td>\n",
       "      <td>FINISHED</td>\n",
       "      <td>608ffd8c081f0303ca513daf</td>\n",
       "      <td>True</td>\n",
       "      <td>2.0</td>\n",
       "      <td>...</td>\n",
       "      <td>a32aa0c1654531f5944bfe87d897289b</td>\n",
       "      <td>Clover Valley Sour Cream, 16oz</td>\n",
       "      <td>070744009768</td>\n",
       "      <td>CLOVER VALLEY</td>\n",
       "      <td>1.0</td>\n",
       "      <td>2.40</td>\n",
       "      <td>NaN</td>\n",
       "      <td>NaN</td>\n",
       "      <td>CV SOUR CREAM</td>\n",
       "      <td>2022-09-23T22:36:54.496Z</td>\n",
       "    </tr>\n",
       "    <tr>\n",
       "      <th>360376</th>\n",
       "      <td>632e34fc0a7247339f0fac00</td>\n",
       "      <td>DOLLAR GENERAL STORE</td>\n",
       "      <td>2022-09-23T00:00:00Z</td>\n",
       "      <td>6:20 PM</td>\n",
       "      <td>2022-09-23T22:36:44.617Z</td>\n",
       "      <td>8.43</td>\n",
       "      <td>FINISHED</td>\n",
       "      <td>608ffd8c081f0303ca513daf</td>\n",
       "      <td>True</td>\n",
       "      <td>2.0</td>\n",
       "      <td>...</td>\n",
       "      <td>18eb1b62b68b182bfbf283661b6527b8</td>\n",
       "      <td>L&amp;M Cigarettes - Pack</td>\n",
       "      <td>028200310026</td>\n",
       "      <td>L&amp;M</td>\n",
       "      <td>1.0</td>\n",
       "      <td>6.03</td>\n",
       "      <td>NaN</td>\n",
       "      <td>NaN</td>\n",
       "      <td>L M BLUE BOX KING PK</td>\n",
       "      <td>2022-09-23T22:36:54.496Z</td>\n",
       "    </tr>\n",
       "  </tbody>\n",
       "</table>\n",
       "<p>360377 rows × 33 columns</p>\n",
       "</div>"
      ],
      "text/plain": [
       "                              ID            STORE_NAME         PURCHASE_DATE  \\\n",
       "0       62868f660a72546bef0b2dd0   TOWN OF ROCKY MOUNT  2022-05-19T00:00:00Z   \n",
       "1       6269a4ea0a7241077408b6e1         FAMILY DOLLAR  2022-04-27T00:00:00Z   \n",
       "2       6269a4ea0a7241077408b6e1         FAMILY DOLLAR  2022-04-27T00:00:00Z   \n",
       "3       625b25e70a723eb9730d2c9c                PUBLIX  2022-04-15T00:00:00Z   \n",
       "4       625b25e70a723eb9730d2c9c                PUBLIX  2022-04-15T00:00:00Z   \n",
       "...                          ...                   ...                   ...   \n",
       "360372  61b60d450a723af31e49e390         KOSTA'S GYROS  2021-12-09T00:00:00Z   \n",
       "360373  61b60d450a723af31e49e390         KOSTA'S GYROS  2021-12-09T00:00:00Z   \n",
       "360374  61b60d450a723af31e49e390         KOSTA'S GYROS  2021-12-09T00:00:00Z   \n",
       "360375  632e34fc0a7247339f0fac00  DOLLAR GENERAL STORE  2022-09-23T00:00:00Z   \n",
       "360376  632e34fc0a7247339f0fac00  DOLLAR GENERAL STORE  2022-09-23T00:00:00Z   \n",
       "\n",
       "       PURCHASE_TIME              DATE_SCANNED  TOTAL_SPENT  \\\n",
       "0            2:05 PM   2022-05-19T18:41:42.53Z       859.87   \n",
       "1            4:15 PM   2022-04-27T20:17:46.09Z        11.00   \n",
       "2            4:15 PM   2022-04-27T20:17:46.09Z        11.00   \n",
       "3            4:45 PM  2022-04-16T20:24:07.259Z        10.67   \n",
       "4            4:45 PM  2022-04-16T20:24:07.259Z        10.67   \n",
       "...              ...                       ...          ...   \n",
       "360372      12:38 AM  2021-12-12T14:55:01.235Z        24.86   \n",
       "360373      12:38 AM  2021-12-12T14:55:01.235Z        24.86   \n",
       "360374      12:38 AM  2021-12-12T14:55:01.235Z        24.86   \n",
       "360375       6:20 PM  2022-09-23T22:36:44.617Z         8.43   \n",
       "360376       6:20 PM  2022-09-23T22:36:44.617Z         8.43   \n",
       "\n",
       "       REWARDS_RECEIPT_STATUS                   USER_ID USER_VIEWED  \\\n",
       "0                    FINISHED  61375682c625197c5db73602        True   \n",
       "1                    FINISHED  61578e96c2fb9321213720fc        True   \n",
       "2                    FINISHED  61578e96c2fb9321213720fc        True   \n",
       "3                    FINISHED  6048de2ec9106b12d2b1ff61        True   \n",
       "4                    FINISHED  6048de2ec9106b12d2b1ff61        True   \n",
       "...                       ...                       ...         ...   \n",
       "360372               FINISHED  607977220eb8310a043a61db        True   \n",
       "360373               FINISHED  607977220eb8310a043a61db        True   \n",
       "360374               FINISHED  607977220eb8310a043a61db        True   \n",
       "360375               FINISHED  608ffd8c081f0303ca513daf        True   \n",
       "360376               FINISHED  608ffd8c081f0303ca513daf        True   \n",
       "\n",
       "        PURCHASED_ITEM_COUNT  ...           REWARDS_RECEIPT_ITEM_ID  \\\n",
       "0                        1.0  ...  16c56fb28ecbec82e901331d68228f1f   \n",
       "1                        2.0  ...  11c57ddd5747d37822c897a25f9e7768   \n",
       "2                        2.0  ...  3df03ec0abcaa96146a3f8591bd0f492   \n",
       "3                        4.0  ...  89d8e7ea905aaa29b394affbab9fc9de   \n",
       "4                        4.0  ...  11193d868f3e636ab6cf219b16a7b941   \n",
       "...                      ...  ...                               ...   \n",
       "360372                   4.0  ...  25d4fb522078bc29f6596927d9f1e0b8   \n",
       "360373                   4.0  ...  3f358371f1d8cab31a4a6c9dfe8ee01a   \n",
       "360374                   4.0  ...  df295f6fb8c91c4db1903b3fc78c5b1f   \n",
       "360375                   2.0  ...  a32aa0c1654531f5944bfe87d897289b   \n",
       "360376                   2.0  ...  18eb1b62b68b182bfbf283661b6527b8   \n",
       "\n",
       "                                         DESCRIPTION       BARCODE  \\\n",
       "0                                         abraxas LP         32032   \n",
       "1               Homeline Concentrated Regular Bleach  032251542848   \n",
       "2               Homeline Concentrated Regular Bleach  032251542848   \n",
       "3       Snyder's of Hanover Jalapeno Pretzels Pieces  077975088234   \n",
       "4                                 SOUR BRITE CRAWLER           NaN   \n",
       "...                                              ...           ...   \n",
       "360372       Hagerty Silversmiths Polish Spray, 8 Oz  011130140801   \n",
       "360373                                          MALE           NaN   \n",
       "360374                               W OF CHICK 32OZ           NaN   \n",
       "360375                Clover Valley Sour Cream, 16oz  070744009768   \n",
       "360376                         L&M Cigarettes - Pack  028200310026   \n",
       "\n",
       "                 BRAND_CODE  QUANTITY_PURCHASED TOTAL_FINAL_PRICE  \\\n",
       "0                       NaN                 1.0            859.87   \n",
       "1                  HOMELINE                 1.0              5.50   \n",
       "2                  HOMELINE                 1.0              5.50   \n",
       "3       SNYDER'S OF HANOVER                 1.0              4.29   \n",
       "4                       NaN                 1.0              2.19   \n",
       "...                     ...                 ...               ...   \n",
       "360372              HAGERTY                 1.0              6.59   \n",
       "360373                  NaN                 1.0              2.59   \n",
       "360374                  NaN                 1.0              8.09   \n",
       "360375        CLOVER VALLEY                 1.0              2.40   \n",
       "360376                  L&M                 1.0              6.03   \n",
       "\n",
       "       POINTS_EARNED                   REWARDS_GROUP  \\\n",
       "0                NaN                             NaN   \n",
       "1                NaN                             NaN   \n",
       "2                NaN                             NaN   \n",
       "3                NaN  ROLD GOLD FLAVORED MULTI SERVE   \n",
       "4                NaN                             NaN   \n",
       "...              ...                             ...   \n",
       "360372           NaN                             NaN   \n",
       "360373           NaN                             NaN   \n",
       "360374           NaN                             NaN   \n",
       "360375           NaN                             NaN   \n",
       "360376           NaN                             NaN   \n",
       "\n",
       "                     ORIGINAL_RECEIPT_ITEM_TEXT             MODIFY_DATE_y  \n",
       "0                                         CHCCK  2022-05-22T11:20:57.998Z  \n",
       "1       HL CONCENTRATED REGULAR BLEACH 121FL OZ  2022-04-27T20:17:55.521Z  \n",
       "2       HL CONCENTRATED REGULAR BLEACH 121FL OZ  2022-04-27T20:17:55.521Z  \n",
       "3                            SNYD PRTZL JALPENO  2022-04-16T20:24:24.064Z  \n",
       "4                            SOUR BRITE CRAWLER  2022-04-16T20:24:24.064Z  \n",
       "...                                         ...                       ...  \n",
       "360372                               HAR POLISH  2021-12-12T14:55:24.387Z  \n",
       "360373                                     MALE  2021-12-12T14:55:24.387Z  \n",
       "360374                          W OF CHICK 32OZ  2021-12-12T14:55:24.387Z  \n",
       "360375                            CV SOUR CREAM  2022-09-23T22:36:54.496Z  \n",
       "360376                     L M BLUE BOX KING PK  2022-09-23T22:36:54.496Z  \n",
       "\n",
       "[360377 rows x 33 columns]"
      ]
     },
     "execution_count": 4,
     "metadata": {},
     "output_type": "execute_result"
    }
   ],
   "source": [
    "receiptsmerged = receipts.merge(receipt_items, left_on='ID', right_on='REWARDS_RECEIPT_ID')\n",
    "receiptsmerged"
   ]
  },
  {
   "cell_type": "markdown",
   "id": "00f9a79e",
   "metadata": {},
   "source": [
    "I have grouped the receipt_items and receipts table by the receipt's ID. This was done in an effort to make the rest of the code easier to write."
   ]
  },
  {
   "cell_type": "code",
   "execution_count": 5,
   "id": "e7f40834",
   "metadata": {},
   "outputs": [
    {
     "data": {
      "text/plain": [
       "Text(0, 0.5, 'Total spent')"
      ]
     },
     "execution_count": 5,
     "metadata": {},
     "output_type": "execute_result"
    },
    {
     "data": {
      "image/png": "[encoded data removed]",
      "text/plain": [
       "<Figure size 432x288 with 1 Axes>"
      ]
     },
     "metadata": {
      "needs_background": "light"
     },
     "output_type": "display_data"
    }
   ],
   "source": [
    "groupedbysum = receipts.groupby(by = ['ID'], as_index = False).sum()\n",
    "groupedbysum1 = groupedbysum[['PURCHASED_ITEM_COUNT', 'TOTAL_SPENT']]\n",
    "plot2 = plt.scatter(groupedbysum1['PURCHASED_ITEM_COUNT'], groupedbysum1['TOTAL_SPENT'])\n",
    "plt.xlim(0,1500)\n",
    "plt.ylim(0,7500)\n",
    "plt.xlabel('Count of purchased items')\n",
    "plt.ylabel('Total spent')"
   ]
  },
  {
   "cell_type": "markdown",
   "id": "5f424342",
   "metadata": {},
   "source": [
    "I have plotted the amount of purchased items along with the total spent per item. As you can see here, there is an inverse relationship betwween the two variables. This makes sense, as there are many items that are bought only once that are extremely expensive, and there are many items that are bought hundreds and thousands of times that are extremely cheap."
   ]
  },
  {
   "cell_type": "code",
   "execution_count": 6,
   "id": "e67fc03e",
   "metadata": {},
   "outputs": [
    {
     "data": {
      "text/plain": [
       "Text(0, 0.5, 'Total spent per month')"
      ]
     },
     "execution_count": 6,
     "metadata": {},
     "output_type": "execute_result"
    },
    {
     "data": {
      "image/png": "[encoded data removed]",
      "text/plain": [
       "<Figure size 432x288 with 1 Axes>"
      ]
     },
     "metadata": {
      "needs_background": "light"
     },
     "output_type": "display_data"
    }
   ],
   "source": [
    "receiptsmerged['Month'] = pd.to_datetime(receiptsmerged['PURCHASE_DATE']).dt.month\n",
    "receiptsbymonth = receiptsmerged.groupby(by=['Month'], as_index = False).sum()\n",
    "plt.bar(receiptsbymonth['Month'], receiptsbymonth['TOTAL_SPENT'])\n",
    "plt.xlabel('Month')\n",
    "plt.ylabel('Total spent per month')"
   ]
  },
  {
   "cell_type": "markdown",
   "id": "8a7ca46d",
   "metadata": {},
   "source": [
    "This bar plot shows the total amount spent per month. There are two noticeable ticks, one around August and one around December. This correlates to the two times of the year when people typically spend the most, when they go back to school and around Christmastime, when everybody likes to make a habit of buying gifts for others."
   ]
  },
  {
   "cell_type": "code",
   "execution_count": 7,
   "id": "6b7e1a01",
   "metadata": {},
   "outputs": [
    {
     "data": {
      "text/plain": [
       "Text(0, 0.5, 'Number of items bought per month')"
      ]
     },
     "execution_count": 7,
     "metadata": {},
     "output_type": "execute_result"
    },
    {
     "data": {
      "image/png": "[encoded data removed]",
      "text/plain": [
       "<Figure size 432x288 with 1 Axes>"
      ]
     },
     "metadata": {
      "needs_background": "light"
     },
     "output_type": "display_data"
    }
   ],
   "source": [
    "plt.bar(receiptsbymonth['Month'], receiptsbymonth['QUANTITY_PURCHASED'])\n",
    "plt.xlabel('Month')\n",
    "plt.ylabel('Number of items bought per month')"
   ]
  },
  {
   "cell_type": "markdown",
   "id": "0493db28",
   "metadata": {},
   "source": [
    "This bar plot shows the total items bought per month. There are two ticks, one around the start of the new year and one around September. This also makes sense; as aforementioned before many people like to buy things at the start of the school year, and many companies have to restock their inventories at the start of the new calendar year."
   ]
  }
 ],
 "metadata": {
  "kernelspec": {
   "display_name": "Python 3 (ipykernel)",
   "language": "python",
   "name": "python3"
  },
  "language_info": {
   "codemirror_mode": {
    "name": "ipython",
    "version": 3
   },
   "file_extension": ".py",
   "mimetype": "text/x-python",
   "name": "python",
   "nbconvert_exporter": "python",
   "pygments_lexer": "ipython3",
   "version": "3.9.7"
  }
 },
 "nbformat": 4,
 "nbformat_minor": 5
}
